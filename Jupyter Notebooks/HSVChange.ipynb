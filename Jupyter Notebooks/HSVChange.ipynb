{
 "cells": [
  {
   "cell_type": "markdown",
   "metadata": {},
   "source": [
    "HSVCHANGE\n",
    "\n",
    "This script allows an image to be modified in the HSV range in order to explore thresholding. It creates a controller with trackbars that allow the threshold settings to be modified in realtime so the user can see how the changes affect different parts of the images"
   ]
  },
  {
   "cell_type": "markdown",
   "metadata": {},
   "source": [
    "The setup phase initializes all of the requried variables"
   ]
  },
  {
   "cell_type": "code",
   "execution_count": null,
   "metadata": {},
   "outputs": [],
   "source": [
    "from __future__ import print_function\n",
    "import cv2 as cv\n",
    "import argparse\n",
    "import numpy as np\n",
    "max_value = 255\n",
    "max_value_H = 360//2\n",
    "low_H = 0\n",
    "low_S = 0\n",
    "low_V = 0\n",
    "high_H = max_value_H\n",
    "high_S = max_value\n",
    "high_V = max_value\n",
    "window_capture_name = 'Video Capture'\n",
    "window_detection_name = 'Object Detection'\n",
    "low_H_name = 'Low H'\n",
    "low_S_name = 'Low S'\n",
    "low_V_name = 'Low V'\n",
    "high_H_name = 'High H'\n",
    "high_S_name = 'High S'\n",
    "high_V_name = 'High V'"
   ]
  },
  {
   "cell_type": "markdown",
   "metadata": {},
   "source": [
    "These functions set up the trackbars that will be displayed on the image. There are three color variables used here, H,S and V and each has two trackbars. One of these trackbars controls the upper bound of the threshold while the other controls the lower bound. These varaibles are set as global varaibles to make it easier to control the values in real time"
   ]
  },
  {
   "cell_type": "code",
   "execution_count": null,
   "metadata": {},
   "outputs": [],
   "source": [
    "def on_low_H_thresh_trackbar(val):\n",
    "    global low_H\n",
    "    global high_H\n",
    "    low_H = val\n",
    "    low_H = min(high_H-1, low_H)\n",
    "    cv.setTrackbarPos(low_H_name, window_detection_name, low_H)\n",
    "def on_high_H_thresh_trackbar(val):\n",
    "    global low_H\n",
    "    global high_H\n",
    "    high_H = val\n",
    "    high_H = max(high_H, low_H+1)\n",
    "    cv.setTrackbarPos(high_H_name, window_detection_name, high_H)\n",
    "def on_low_S_thresh_trackbar(val):\n",
    "    global low_S\n",
    "    global high_S\n",
    "    low_S = val\n",
    "    low_S = min(high_S-1, low_S)\n",
    "    cv.setTrackbarPos(low_S_name, window_detection_name, low_S)\n",
    "def on_high_S_thresh_trackbar(val):\n",
    "    global low_S\n",
    "    global high_S\n",
    "    high_S = val\n",
    "    high_S = max(high_S, low_S+1)\n",
    "    cv.setTrackbarPos(high_S_name, window_detection_name, high_S)\n",
    "def on_low_V_thresh_trackbar(val):\n",
    "    global low_V\n",
    "    global high_V\n",
    "    low_V = val\n",
    "    low_V = min(high_V-1, low_V)\n",
    "    cv.setTrackbarPos(low_V_name, window_detection_name, low_V)\n",
    "def on_high_V_thresh_trackbar(val):\n",
    "    global low_V\n",
    "    global high_V\n",
    "    high_V = val\n",
    "    high_V = max(high_V, low_V+1)\n",
    "    cv.setTrackbarPos(high_V_name, window_detection_name, high_V)"
   ]
  },
  {
   "cell_type": "markdown",
   "metadata": {},
   "source": [
    "Here the image view window is set up and the trackbars are displayed on top"
   ]
  },
  {
   "cell_type": "code",
   "execution_count": null,
   "metadata": {},
   "outputs": [],
   "source": [
    "cap = cv.imread(\"D:\\Images\\image16.png\")\n",
    "cv.namedWindow(window_capture_name)\n",
    "cv.namedWindow(window_detection_name)\n",
    "cv.createTrackbar(low_H_name, window_detection_name , low_H, max_value_H, on_low_H_thresh_trackbar)\n",
    "cv.createTrackbar(high_H_name, window_detection_name , high_H, max_value_H, on_high_H_thresh_trackbar)\n",
    "cv.createTrackbar(low_S_name, window_detection_name , low_S, max_value, on_low_S_thresh_trackbar)\n",
    "cv.createTrackbar(high_S_name, window_detection_name , high_S, max_value, on_high_S_thresh_trackbar)\n",
    "cv.createTrackbar(low_V_name, window_detection_name , low_V, max_value, on_low_V_thresh_trackbar)\n",
    "cv.createTrackbar(high_V_name, window_detection_name , high_V, max_value, on_high_V_thresh_trackbar)"
   ]
  },
  {
   "cell_type": "markdown",
   "metadata": {},
   "source": [
    "\n",
    "\n",
    "Finally, the image is displayed and the theshold masks are applied\n",
    "\n"
   ]
  },
  {
   "cell_type": "code",
   "execution_count": null,
   "metadata": {},
   "outputs": [],
   "source": [
    "while True:\n",
    "    \n",
    "    frame = cap\n",
    "    frame_HSV = cv.cvtColor(frame, cv.COLOR_BGR2HSV)\n",
    "    frame_threshold = cv.inRange(frame_HSV, (low_H, low_S, low_V), (high_H, high_S, high_V))\n",
    "    frame_threshold2 = 255 - frame_threshold\n",
    "    final_img = cv.bitwise_or(cap, cap, mask=frame_threshold)\n",
    "    final_img2 = cv.bitwise_or(cap, cap, mask=frame_threshold2)\n",
    "    \n",
    "    \n",
    "    cv.imshow(window_capture_name, frame)\n",
    "    cv.imshow(window_detection_name, final_img2)\n",
    "    \n",
    "    key = cv.waitKey(30)\n",
    "    if key == ord('q') or key == 27:\n",
    "        break"
   ]
  }
 ],
 "metadata": {
  "kernelspec": {
   "display_name": "Python 3",
   "language": "python",
   "name": "python3"
  },
  "language_info": {
   "codemirror_mode": {
    "name": "ipython",
    "version": 3
   },
   "file_extension": ".py",
   "mimetype": "text/x-python",
   "name": "python",
   "nbconvert_exporter": "python",
   "pygments_lexer": "ipython3",
   "version": "3.7.7"
  }
 },
 "nbformat": 4,
 "nbformat_minor": 4
}
