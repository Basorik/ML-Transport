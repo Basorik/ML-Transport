{
 "cells": [
  {
   "cell_type": "markdown",
   "metadata": {},
   "source": [
    "ReadFromExcel\n",
    "\n",
    "This file is designed to read in an excel file containing the image URLS from Blackmoth and split into the required categories for use within Pytorch. Currently this means splitting into categories of 'Pothole' and 'Not_Pothole', and also naming the images to distinguish between the cameras that were used to take the image\n"
   ]
  },
  {
   "cell_type": "markdown",
   "metadata": {},
   "source": [
    "This script is quite basic and simply requires 'Pandas' and 'Numpy' to handle the image array structures, and 'requests' to handle requesting the images from the URLS"
   ]
  },
  {
   "cell_type": "code",
   "execution_count": null,
   "metadata": {},
   "outputs": [],
   "source": [
    "import pandas as pd\n",
    "import numpy as np\n",
    "import matplotlib.pyplot as plt\n",
    "import requests"
   ]
  },
  {
   "cell_type": "markdown",
   "metadata": {},
   "source": [
    "These fields will need to be changed to suit:\n",
    "'df' reads from the specified CSV file so change this to the path of the CSV file that should be read\n",
    "'base' is the base path that the output images will be saved to. Two new folders 'Pothole and \"Not_pothole' will be created here"
   ]
  },
  {
   "cell_type": "code",
   "execution_count": null,
   "metadata": {},
   "outputs": [],
   "source": [
    "df = pd.read_csv(\"Blackmoth image classification with left and right images.csv\")\n",
    "#print(df.image_url)\n",
    "\n",
    "base = 'E:\\\\Images\\\\v3'"
   ]
  },
  {
   "cell_type": "markdown",
   "metadata": {},
   "source": [
    "Here a function is defined to return an image from a given URL. This uses the imported 'requests' library to handle the GET requests to the URL and writes the image to a specified file. Some effort has been made to avoid errors if the URL is incorrect but care needs to be taken here since minimal testing has been done"
   ]
  },
  {
   "cell_type": "code",
   "execution_count": null,
   "metadata": {},
   "outputs": [],
   "source": [
    "def imgFromURL(URL,filename):\n",
    "    if not isinstance(URL, str):\n",
    "        return\n",
    "    \n",
    "    with open(filename, 'wb') as handle:\n",
    "        response = requests.get(URL, stream=True)\n",
    "        \n",
    "\n",
    "        if not response.ok:\n",
    "            print (response)\n",
    "\n",
    "        for block in response.iter_content(1024):\n",
    "            if not block:\n",
    "                break\n",
    "\n",
    "            handle.write(block)\n",
    "        handle.close()\n"
   ]
  },
  {
   "cell_type": "markdown",
   "metadata": {},
   "source": [
    "This For loop contains the bulk of the code. Each row from the previously opened CSV file is iterated on, and the contents are pulled out into variables. Care should be taken here as modifications will need to be made if the row names in the CSV file are different. Next the file name for each image is prepared using the base path and the row name the URL was taken from, and this is passed into the function defined previously to save the iamge to that location."
   ]
  },
  {
   "cell_type": "code",
   "execution_count": null,
   "metadata": {},
   "outputs": [],
   "source": [
    "for index,row in df.iterrows():\n",
    "    print(index)\n",
    "    picURL = row['image_url']\n",
    "    left_0 = row['left_0']\n",
    "    left_1 = row['left_1']\n",
    "    left_2 = row['left_2']\n",
    "    left_3 = row['left_3']\n",
    "    left_4 = row['left_4']\n",
    "    right_0 = row['right_0']\n",
    "    right_1 = row['right_1']\n",
    "    right_2 = row['right_2']\n",
    "    right_3 = row['right_3']\n",
    "    right_4 = row['right_4']\n",
    "    image_path = str(index) + '.png'\n",
    "    test = row['defect_code']\n",
    "\n",
    "    if (row['defect_code'] == 'RM111_Pothole Patching') or (row['defect_code'] == 'H111_Pothole Patching'):\n",
    "        classifier = '\\\\Pothole\\\\'\n",
    "    else:\n",
    "        classifier = '\\\\Not_Pothole\\\\'\n",
    "    imgFromURL(picURL,base+classifier+image_path)\n",
    "    imgFromURL(left_0, base+classifier+'left_0_'+image_path)\n",
    "    imgFromURL(left_1, base+classifier+'left_1_'+image_path)\n",
    "    imgFromURL(left_2, base+classifier+'left_2_'+image_path)\n",
    "    imgFromURL(left_3, base+classifier+'left_3_'+image_path)\n",
    "    imgFromURL(left_4, base+classifier+'left_4_'+image_path)\n",
    "    imgFromURL(right_0, base+classifier+'right_0_'+image_path)\n",
    "    imgFromURL(right_1, base+classifier+'right_1_'+image_path)\n",
    "    imgFromURL(right_2, base+classifier+'right_2_'+image_path)\n",
    "    imgFromURL(right_3, base+classifier+'right_3_'+image_path)\n",
    "    imgFromURL(right_4, base+classifier+'right_4_'+image_path)"
   ]
  }
 ],
 "metadata": {
  "kernelspec": {
   "display_name": "Python 3",
   "language": "python",
   "name": "python3"
  },
  "language_info": {
   "codemirror_mode": {
    "name": "ipython",
    "version": 3
   },
   "file_extension": ".py",
   "mimetype": "text/x-python",
   "name": "python",
   "nbconvert_exporter": "python",
   "pygments_lexer": "ipython3",
   "version": "3.7.7"
  }
 },
 "nbformat": 4,
 "nbformat_minor": 4
}
