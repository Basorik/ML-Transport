{
 "cells": [
  {
   "cell_type": "code",
   "execution_count": 2,
   "metadata": {},
   "outputs": [
    {
     "name": "stdout",
     "output_type": "stream",
     "text": [
      "arn:aws:iam::147962123592:role/service-role/AmazonSageMaker-ExecutionRole-20200623T163146\n",
      "sagemaker-roadinspection-data\n",
      "CPU times: user 111 ms, sys: 12.3 ms, total: 123 ms\n",
      "Wall time: 176 ms\n"
     ]
    }
   ],
   "source": [
    "%%time\n",
    "import sagemaker\n",
    "from sagemaker import get_execution_role\n",
    "\n",
    "role = get_execution_role()\n",
    "print(role)\n",
    "\n",
    "sess = sagemaker.Session()\n",
    "bucket='sagemaker-roadinspection-data' \n",
    "print(bucket)\n",
    "prefix = 'v4'"
   ]
  },
  {
   "cell_type": "code",
   "execution_count": 3,
   "metadata": {},
   "outputs": [
    {
     "name": "stderr",
     "output_type": "stream",
     "text": [
      "'get_image_uri' method will be deprecated in favor of 'ImageURIProvider' class in SageMaker Python SDK v2.\n"
     ]
    },
    {
     "name": "stdout",
     "output_type": "stream",
     "text": [
      "544295431143.dkr.ecr.ap-southeast-2.amazonaws.com/image-classification:latest\n"
     ]
    }
   ],
   "source": [
    "from sagemaker.amazon.amazon_estimator import get_image_uri\n",
    "\n",
    "training_image = get_image_uri(sess.boto_region_name, 'image-classification', repo_version=\"latest\")\n",
    "print (training_image)"
   ]
  },
  {
   "cell_type": "code",
   "execution_count": 4,
   "metadata": {},
   "outputs": [
    {
     "name": "stdout",
     "output_type": "stream",
     "text": [
      "s3://sagemaker-roadinspection-data/v4/Train/\n",
      "s3://sagemaker-roadinspection-data/v4/Validation/\n",
      "s3://sagemaker-roadinspection-data/v4/train_lst/\n",
      "s3://sagemaker-roadinspection-data/v4/validation_lst/\n"
     ]
    }
   ],
   "source": [
    "s3train = 's3://{}/{}/Train/'.format(bucket, prefix)\n",
    "s3validation = 's3://{}/{}/Validation/'.format(bucket, prefix)\n",
    "s3train_lst = 's3://{}/{}/train_lst/'.format(bucket, prefix)\n",
    "s3validation_lst = 's3://{}/{}/validation_lst/'.format(bucket, prefix)\n",
    "print(s3train)\n",
    "print(s3validation)\n",
    "print(s3train_lst)\n",
    "print(s3validation_lst)"
   ]
  },
  {
   "cell_type": "code",
   "execution_count": 19,
   "metadata": {},
   "outputs": [
    {
     "name": "stderr",
     "output_type": "stream",
     "text": [
      "WARNING:root:Parameter image_name will be renamed to image_uri in SageMaker Python SDK v2.\n"
     ]
    }
   ],
   "source": [
    "s3_output_location = 's3://{}/{}/output'.format(bucket, prefix)\n",
    "ic = sagemaker.estimator.Estimator(training_image,\n",
    "                                         role, \n",
    "                                         train_instance_count=1, \n",
    "                                         train_instance_type='ml.p3.2xlarge',\n",
    "                                         train_volume_size = 50,\n",
    "                                         train_max_run = 360000,\n",
    "                                         input_mode= 'File',\n",
    "                                         output_path=s3_output_location,\n",
    "                                         sagemaker_session=sess)"
   ]
  },
  {
   "cell_type": "code",
   "execution_count": 27,
   "metadata": {},
   "outputs": [],
   "source": [
    "ic.set_hyperparameters(num_layers=50,\n",
    "                             use_pretrained_model=0,\n",
    "                             image_shape = \"3,224,224\",\n",
    "                             num_classes=2,\n",
    "                             mini_batch_size=64,\n",
    "                             epochs=15,\n",
    "                             learning_rate=0.01,\n",
    "                             top_k=2,\n",
    "                             num_training_samples=4584,\n",
    "                             #resize = 256,\n",
    "                             precision_dtype='float32')"
   ]
  },
  {
   "cell_type": "code",
   "execution_count": 28,
   "metadata": {},
   "outputs": [
    {
     "name": "stderr",
     "output_type": "stream",
     "text": [
      "WARNING:sagemaker:'s3_input' class will be renamed to 'TrainingInput' in SageMaker Python SDK v2.\n",
      "WARNING:sagemaker:'s3_input' class will be renamed to 'TrainingInput' in SageMaker Python SDK v2.\n",
      "WARNING:sagemaker:'s3_input' class will be renamed to 'TrainingInput' in SageMaker Python SDK v2.\n",
      "WARNING:sagemaker:'s3_input' class will be renamed to 'TrainingInput' in SageMaker Python SDK v2.\n"
     ]
    }
   ],
   "source": [
    "train_data = sagemaker.session.s3_input(s3train, distribution='FullyReplicated', \n",
    "                        content_type='application/x-image', s3_data_type='S3Prefix')\n",
    "validation_data = sagemaker.session.s3_input(s3validation, distribution='FullyReplicated', \n",
    "                             content_type='application/x-image', s3_data_type='S3Prefix')\n",
    "train_data_lst = sagemaker.session.s3_input(s3train_lst, distribution='FullyReplicated', \n",
    "                        content_type='application/x-image', s3_data_type='S3Prefix')\n",
    "validation_data_lst = sagemaker.session.s3_input(s3validation_lst, distribution='FullyReplicated', \n",
    "                             content_type='application/x-image', s3_data_type='S3Prefix')\n",
    "\n",
    "data_channels = {'train': train_data, 'validation': validation_data, \n",
    "                 'train_lst': train_data_lst, 'validation_lst': validation_data_lst}"
   ]
  },
  {
   "cell_type": "code",
   "execution_count": 29,
   "metadata": {},
   "outputs": [
    {
     "name": "stdout",
     "output_type": "stream",
     "text": [
      "2020-07-10 05:57:36 Starting - Starting the training job...\n",
      "2020-07-10 05:57:38 Starting - Launching requested ML instances.........\n",
      "2020-07-10 05:59:11 Starting - Preparing the instances for training......\n",
      "2020-07-10 06:00:18 Downloading - Downloading input data......\n",
      "2020-07-10 06:01:19 Training - Downloading the training image..\u001b[34mDocker entrypoint called with argument(s): train\u001b[0m\n",
      "\u001b[34m[07/10/2020 06:01:45 INFO 140628876748608] Reading default configuration from /opt/amazon/lib/python2.7/site-packages/image_classification/default-input.json: {u'beta_1': 0.9, u'gamma': 0.9, u'beta_2': 0.999, u'optimizer': u'sgd', u'use_pretrained_model': 0, u'eps': 1e-08, u'epochs': 30, u'lr_scheduler_factor': 0.1, u'num_layers': 152, u'image_shape': u'3,224,224', u'precision_dtype': u'float32', u'mini_batch_size': 32, u'weight_decay': 0.0001, u'learning_rate': 0.1, u'momentum': 0}\u001b[0m\n",
      "\u001b[34m[07/10/2020 06:01:45 INFO 140628876748608] Merging with provided configuration from /opt/ml/input/config/hyperparameters.json: {u'learning_rate': u'0.01', u'top_k': u'2', u'use_pretrained_model': u'0', u'epochs': u'15', u'num_training_samples': u'4584', u'num_layers': u'50', u'image_shape': u'3,224,224', u'mini_batch_size': u'64', u'precision_dtype': u'float32', u'num_classes': u'2'}\u001b[0m\n",
      "\u001b[34m[07/10/2020 06:01:45 INFO 140628876748608] Final configuration: {u'top_k': u'2', u'optimizer': u'sgd', u'learning_rate': u'0.01', u'epochs': u'15', u'lr_scheduler_factor': 0.1, u'num_layers': u'50', u'precision_dtype': u'float32', u'mini_batch_size': u'64', u'num_classes': u'2', u'beta_1': 0.9, u'beta_2': 0.999, u'use_pretrained_model': u'0', u'eps': 1e-08, u'weight_decay': 0.0001, u'momentum': 0, u'image_shape': u'3,224,224', u'gamma': 0.9, u'num_training_samples': u'4584'}\u001b[0m\n",
      "\u001b[34m[07/10/2020 06:01:45 INFO 140628876748608] Searching for .lst files in /opt/ml/input/data/train_lst.\u001b[0m\n",
      "\u001b[34m[07/10/2020 06:01:45 INFO 140628876748608] Creating record files for Train_List.lst\u001b[0m\n",
      "\n",
      "2020-07-10 06:01:42 Training - Training image download completed. Training in progress.\u001b[34m[07/10/2020 06:02:50 INFO 140628876748608] Done creating record files...\u001b[0m\n",
      "\u001b[34m[07/10/2020 06:02:50 INFO 140628876748608] Searching for .lst files in /opt/ml/input/data/validation_lst.\u001b[0m\n",
      "\u001b[34m[07/10/2020 06:02:50 INFO 140628876748608] Creating record files for Verification_List.lst\u001b[0m\n",
      "\u001b[34m[07/10/2020 06:02:55 INFO 140628876748608] Done creating record files...\u001b[0m\n",
      "\u001b[34m[07/10/2020 06:02:55 INFO 140628876748608] use_pretrained_model: 0\u001b[0m\n",
      "\u001b[34m[07/10/2020 06:02:55 INFO 140628876748608] multi_label: 0\u001b[0m\n",
      "\u001b[34m[07/10/2020 06:02:55 INFO 140628876748608] Performing random weight initialization\u001b[0m\n",
      "\u001b[34m[07/10/2020 06:02:55 INFO 140628876748608] ---- Parameters ----\u001b[0m\n",
      "\u001b[34m[07/10/2020 06:02:55 INFO 140628876748608] num_layers: 50\u001b[0m\n",
      "\u001b[34m[07/10/2020 06:02:55 INFO 140628876748608] data type: <type 'numpy.float32'>\u001b[0m\n",
      "\u001b[34m[07/10/2020 06:02:55 INFO 140628876748608] epochs: 15\u001b[0m\n",
      "\u001b[34m[07/10/2020 06:02:55 INFO 140628876748608] optimizer: sgd\u001b[0m\n",
      "\u001b[34m[07/10/2020 06:02:55 INFO 140628876748608] momentum: 0.9\u001b[0m\n",
      "\u001b[34m[07/10/2020 06:02:55 INFO 140628876748608] weight_decay: 0.0001\u001b[0m\n",
      "\u001b[34m[07/10/2020 06:02:55 INFO 140628876748608] learning_rate: 0.01\u001b[0m\n",
      "\u001b[34m[07/10/2020 06:02:55 INFO 140628876748608] num_training_samples: 4584\u001b[0m\n",
      "\u001b[34m[07/10/2020 06:02:55 INFO 140628876748608] mini_batch_size: 64\u001b[0m\n",
      "\u001b[34m[07/10/2020 06:02:55 INFO 140628876748608] image_shape: 3,224,224\u001b[0m\n",
      "\u001b[34m[07/10/2020 06:02:55 INFO 140628876748608] num_classes: 2\u001b[0m\n",
      "\u001b[34m[07/10/2020 06:02:55 INFO 140628876748608] augmentation_type: None\u001b[0m\n",
      "\u001b[34m[07/10/2020 06:02:55 INFO 140628876748608] kv_store: device\u001b[0m\n",
      "\u001b[34m[07/10/2020 06:02:55 INFO 140628876748608] top_k: 2\u001b[0m\n",
      "\u001b[34m[07/10/2020 06:02:55 INFO 140628876748608] checkpoint_frequency not set, will store the best model\u001b[0m\n",
      "\u001b[34m[07/10/2020 06:02:55 INFO 140628876748608] --------------------\u001b[0m\n",
      "\u001b[34m[07/10/2020 06:02:55 INFO 140628876748608] Setting number of threads: 7\u001b[0m\n",
      "\u001b[34m[06:03:03] /opt/brazil-pkg-cache/packages/AIAlgorithmsMXNet/AIAlgorithmsMXNet-1.3.x_ecl_Cuda_10.1.x.2633.0/AL2012/generic-flavor/src/src/operator/nn/./cudnn/./cudnn_algoreg-inl.h:97: Running performance tests to find the best convolution algorithm, this can take a while... (setting env variable MXNET_CUDNN_AUTOTUNE_DEFAULT to 0 to disable)\u001b[0m\n",
      "\u001b[34m[07/10/2020 06:03:09 INFO 140628876748608] Epoch[0] Batch [20]#011Speed: 199.142 samples/sec#011accuracy=0.997768#011top_k_accuracy_2=1.000000\u001b[0m\n",
      "\u001b[34m[07/10/2020 06:03:13 INFO 140628876748608] Epoch[0] Batch [40]#011Speed: 248.399 samples/sec#011accuracy=0.998857#011top_k_accuracy_2=1.000000\u001b[0m\n",
      "\u001b[34m[07/10/2020 06:03:17 INFO 140628876748608] Epoch[0] Batch [60]#011Speed: 271.521 samples/sec#011accuracy=0.999232#011top_k_accuracy_2=1.000000\u001b[0m\n",
      "\u001b[34m[07/10/2020 06:03:19 INFO 140628876748608] Epoch[0] Train-accuracy=0.950044\u001b[0m\n",
      "\u001b[34m[07/10/2020 06:03:19 INFO 140628876748608] Epoch[0] Train-top_k_accuracy_2=1.000000\u001b[0m\n",
      "\u001b[34m[07/10/2020 06:03:19 INFO 140628876748608] Epoch[0] Time cost=16.035\u001b[0m\n",
      "\u001b[34m[07/10/2020 06:03:20 INFO 140628876748608] Epoch[0] Validation-accuracy=0.546875\u001b[0m\n",
      "\u001b[34m[07/10/2020 06:03:20 INFO 140628876748608] Storing the best model with validation accuracy: 0.546875\u001b[0m\n",
      "\u001b[34m[07/10/2020 06:03:20 INFO 140628876748608] Saved checkpoint to \"/opt/ml/model/image-classification-0001.params\"\u001b[0m\n",
      "\u001b[34m[07/10/2020 06:03:24 INFO 140628876748608] Epoch[1] Batch [20]#011Speed: 308.067 samples/sec#011accuracy=0.614583#011top_k_accuracy_2=1.000000\u001b[0m\n",
      "\u001b[34m[07/10/2020 06:03:28 INFO 140628876748608] Epoch[1] Batch [40]#011Speed: 318.839 samples/sec#011accuracy=0.802591#011top_k_accuracy_2=1.000000\u001b[0m\n",
      "\u001b[34m[07/10/2020 06:03:32 INFO 140628876748608] Epoch[1] Batch [60]#011Speed: 322.972 samples/sec#011accuracy=0.867316#011top_k_accuracy_2=1.000000\u001b[0m\n",
      "\u001b[34m[07/10/2020 06:03:34 INFO 140628876748608] Epoch[1] Train-accuracy=0.803257\u001b[0m\n",
      "\u001b[34m[07/10/2020 06:03:34 INFO 140628876748608] Epoch[1] Train-top_k_accuracy_2=1.000000\u001b[0m\n",
      "\u001b[34m[07/10/2020 06:03:34 INFO 140628876748608] Epoch[1] Time cost=13.812\u001b[0m\n",
      "\u001b[34m[07/10/2020 06:03:35 INFO 140628876748608] Epoch[1] Validation-accuracy=0.544271\u001b[0m\n",
      "\u001b[34m[07/10/2020 06:03:39 INFO 140628876748608] Epoch[2] Batch [20]#011Speed: 317.361 samples/sec#011accuracy=1.000000#011top_k_accuracy_2=1.000000\u001b[0m\n",
      "\u001b[34m[07/10/2020 06:03:43 INFO 140628876748608] Epoch[2] Batch [40]#011Speed: 324.456 samples/sec#011accuracy=1.000000#011top_k_accuracy_2=1.000000\u001b[0m\n",
      "\u001b[34m[07/10/2020 06:03:47 INFO 140628876748608] Epoch[2] Batch [60]#011Speed: 326.662 samples/sec#011accuracy=1.000000#011top_k_accuracy_2=1.000000\u001b[0m\n",
      "\u001b[34m[07/10/2020 06:03:49 INFO 140628876748608] Epoch[2] Train-accuracy=0.929357\u001b[0m\n",
      "\u001b[34m[07/10/2020 06:03:49 INFO 140628876748608] Epoch[2] Train-top_k_accuracy_2=1.000000\u001b[0m\n",
      "\u001b[34m[07/10/2020 06:03:49 INFO 140628876748608] Epoch[2] Time cost=13.665\u001b[0m\n",
      "\u001b[34m[07/10/2020 06:03:50 INFO 140628876748608] Epoch[2] Validation-accuracy=0.512500\u001b[0m\n",
      "\u001b[34m[07/10/2020 06:03:54 INFO 140628876748608] Epoch[3] Batch [20]#011Speed: 312.587 samples/sec#011accuracy=0.435268#011top_k_accuracy_2=1.000000\u001b[0m\n",
      "\u001b[34m[07/10/2020 06:03:58 INFO 140628876748608] Epoch[3] Batch [40]#011Speed: 321.942 samples/sec#011accuracy=0.710747#011top_k_accuracy_2=1.000000\u001b[0m\n",
      "\u001b[34m[07/10/2020 06:04:02 INFO 140628876748608] Epoch[3] Batch [60]#011Speed: 325.053 samples/sec#011accuracy=0.805584#011top_k_accuracy_2=1.000000\u001b[0m\n",
      "\u001b[34m[07/10/2020 06:04:04 INFO 140628876748608] Epoch[3] Train-accuracy=0.753741\u001b[0m\n",
      "\u001b[34m[07/10/2020 06:04:04 INFO 140628876748608] Epoch[3] Train-top_k_accuracy_2=1.000000\u001b[0m\n",
      "\u001b[34m[07/10/2020 06:04:04 INFO 140628876748608] Epoch[3] Time cost=13.723\u001b[0m\n",
      "\u001b[34m[07/10/2020 06:04:05 INFO 140628876748608] Epoch[3] Validation-accuracy=0.528646\u001b[0m\n",
      "\u001b[34m[07/10/2020 06:04:09 INFO 140628876748608] Epoch[4] Batch [20]#011Speed: 308.744 samples/sec#011accuracy=0.860119#011top_k_accuracy_2=1.000000\u001b[0m\n",
      "\u001b[34m[07/10/2020 06:04:13 INFO 140628876748608] Epoch[4] Batch [40]#011Speed: 319.884 samples/sec#011accuracy=0.928354#011top_k_accuracy_2=1.000000\u001b[0m\n",
      "\u001b[34m[07/10/2020 06:04:17 INFO 140628876748608] Epoch[4] Batch [60]#011Speed: 323.606 samples/sec#011accuracy=0.951844#011top_k_accuracy_2=1.000000\u001b[0m\n",
      "\u001b[34m[07/10/2020 06:04:19 INFO 140628876748608] Epoch[4] Train-accuracy=0.874120\u001b[0m\n",
      "\u001b[34m[07/10/2020 06:04:19 INFO 140628876748608] Epoch[4] Train-top_k_accuracy_2=1.000000\u001b[0m\n",
      "\u001b[34m[07/10/2020 06:04:19 INFO 140628876748608] Epoch[4] Time cost=13.784\u001b[0m\n",
      "\u001b[34m[07/10/2020 06:04:20 INFO 140628876748608] Epoch[4] Validation-accuracy=0.453125\u001b[0m\n",
      "\u001b[34m[07/10/2020 06:04:24 INFO 140628876748608] Epoch[5] Batch [20]#011Speed: 311.629 samples/sec#011accuracy=0.997024#011top_k_accuracy_2=1.000000\u001b[0m\n",
      "\u001b[34m[07/10/2020 06:04:28 INFO 140628876748608] Epoch[5] Batch [40]#011Speed: 320.739 samples/sec#011accuracy=0.998476#011top_k_accuracy_2=1.000000\u001b[0m\n",
      "\u001b[34m[07/10/2020 06:04:32 INFO 140628876748608] Epoch[5] Batch [60]#011Speed: 323.838 samples/sec#011accuracy=0.998975#011top_k_accuracy_2=1.000000\u001b[0m\n",
      "\u001b[34m[07/10/2020 06:04:34 INFO 140628876748608] Epoch[5] Train-accuracy=0.912852\u001b[0m\n",
      "\u001b[34m[07/10/2020 06:04:34 INFO 140628876748608] Epoch[5] Train-top_k_accuracy_2=1.000000\u001b[0m\n",
      "\u001b[34m[07/10/2020 06:04:34 INFO 140628876748608] Epoch[5] Time cost=13.771\u001b[0m\n",
      "\u001b[34m[07/10/2020 06:04:35 INFO 140628876748608] Epoch[5] Validation-accuracy=0.526042\u001b[0m\n",
      "\u001b[34m[07/10/2020 06:04:39 INFO 140628876748608] Epoch[6] Batch [20]#011Speed: 314.165 samples/sec#011accuracy=0.992560#011top_k_accuracy_2=1.000000\u001b[0m\n",
      "\u001b[34m[07/10/2020 06:04:43 INFO 140628876748608] Epoch[6] Batch [40]#011Speed: 322.307 samples/sec#011accuracy=0.996189#011top_k_accuracy_2=1.000000\u001b[0m\n",
      "\u001b[34m[07/10/2020 06:04:47 INFO 140628876748608] Epoch[6] Batch [60]#011Speed: 324.820 samples/sec#011accuracy=0.997439#011top_k_accuracy_2=1.000000\u001b[0m\n",
      "\u001b[34m[07/10/2020 06:04:49 INFO 140628876748608] Epoch[6] Train-accuracy=0.916813\u001b[0m\n",
      "\u001b[34m[07/10/2020 06:04:49 INFO 140628876748608] Epoch[6] Train-top_k_accuracy_2=1.000000\u001b[0m\n",
      "\u001b[34m[07/10/2020 06:04:49 INFO 140628876748608] Epoch[6] Time cost=13.740\u001b[0m\n",
      "\u001b[34m[07/10/2020 06:04:50 INFO 140628876748608] Epoch[6] Validation-accuracy=0.453125\u001b[0m\n",
      "\u001b[34m[07/10/2020 06:04:54 INFO 140628876748608] Epoch[7] Batch [20]#011Speed: 308.201 samples/sec#011accuracy=0.997024#011top_k_accuracy_2=1.000000\u001b[0m\n",
      "\u001b[34m[07/10/2020 06:04:58 INFO 140628876748608] Epoch[7] Batch [40]#011Speed: 319.336 samples/sec#011accuracy=0.998476#011top_k_accuracy_2=1.000000\u001b[0m\n",
      "\u001b[34m[07/10/2020 06:05:02 INFO 140628876748608] Epoch[7] Batch [60]#011Speed: 322.734 samples/sec#011accuracy=0.998975#011top_k_accuracy_2=1.000000\u001b[0m\n",
      "\u001b[34m[07/10/2020 06:05:04 INFO 140628876748608] Epoch[7] Train-accuracy=0.912852\u001b[0m\n",
      "\u001b[34m[07/10/2020 06:05:04 INFO 140628876748608] Epoch[7] Train-top_k_accuracy_2=1.000000\u001b[0m\n",
      "\u001b[34m[07/10/2020 06:05:04 INFO 140628876748608] Epoch[7] Time cost=13.812\u001b[0m\n",
      "\u001b[34m[07/10/2020 06:05:05 INFO 140628876748608] Epoch[7] Validation-accuracy=0.544271\u001b[0m\n",
      "\u001b[34m[07/10/2020 06:05:09 INFO 140628876748608] Epoch[8] Batch [20]#011Speed: 308.118 samples/sec#011accuracy=0.992560#011top_k_accuracy_2=1.000000\u001b[0m\n",
      "\u001b[34m[07/10/2020 06:05:13 INFO 140628876748608] Epoch[8] Batch [40]#011Speed: 318.894 samples/sec#011accuracy=0.996189#011top_k_accuracy_2=1.000000\u001b[0m\n",
      "\u001b[34m[07/10/2020 06:05:17 INFO 140628876748608] Epoch[8] Batch [60]#011Speed: 322.963 samples/sec#011accuracy=0.997439#011top_k_accuracy_2=1.000000\u001b[0m\n",
      "\u001b[34m[07/10/2020 06:05:19 INFO 140628876748608] Epoch[8] Train-accuracy=0.920335\u001b[0m\n",
      "\u001b[34m[07/10/2020 06:05:19 INFO 140628876748608] Epoch[8] Train-top_k_accuracy_2=1.000000\u001b[0m\n",
      "\u001b[34m[07/10/2020 06:05:19 INFO 140628876748608] Epoch[8] Time cost=13.808\u001b[0m\n",
      "\u001b[34m[07/10/2020 06:05:20 INFO 140628876748608] Epoch[8] Validation-accuracy=0.453125\u001b[0m\n",
      "\u001b[34m[07/10/2020 06:05:24 INFO 140628876748608] Epoch[9] Batch [20]#011Speed: 314.396 samples/sec#011accuracy=0.997024#011top_k_accuracy_2=1.000000\u001b[0m\n",
      "\u001b[34m[07/10/2020 06:05:28 INFO 140628876748608] Epoch[9] Batch [40]#011Speed: 322.633 samples/sec#011accuracy=0.998476#011top_k_accuracy_2=1.000000\u001b[0m\n",
      "\u001b[34m[07/10/2020 06:05:32 INFO 140628876748608] Epoch[9] Batch [60]#011Speed: 325.291 samples/sec#011accuracy=0.998975#011top_k_accuracy_2=1.000000\u001b[0m\n",
      "\u001b[34m[07/10/2020 06:05:34 INFO 140628876748608] Epoch[9] Train-accuracy=0.916373\u001b[0m\n",
      "\u001b[34m[07/10/2020 06:05:34 INFO 140628876748608] Epoch[9] Train-top_k_accuracy_2=1.000000\u001b[0m\n",
      "\u001b[34m[07/10/2020 06:05:34 INFO 140628876748608] Epoch[9] Time cost=13.719\u001b[0m\n",
      "\u001b[34m[07/10/2020 06:05:35 INFO 140628876748608] Epoch[9] Validation-accuracy=0.544271\u001b[0m\n",
      "\u001b[34m[07/10/2020 06:05:39 INFO 140628876748608] Epoch[10] Batch [20]#011Speed: 317.646 samples/sec#011accuracy=0.995536#011top_k_accuracy_2=1.000000\u001b[0m\n",
      "\u001b[34m[07/10/2020 06:05:43 INFO 140628876748608] Epoch[10] Batch [40]#011Speed: 324.337 samples/sec#011accuracy=0.997713#011top_k_accuracy_2=1.000000\u001b[0m\n",
      "\u001b[34m[07/10/2020 06:05:47 INFO 140628876748608] Epoch[10] Batch [60]#011Speed: 326.851 samples/sec#011accuracy=0.998463#011top_k_accuracy_2=1.000000\u001b[0m\n",
      "\u001b[34m[07/10/2020 06:05:49 INFO 140628876748608] Epoch[10] Train-accuracy=0.912412\u001b[0m\n",
      "\u001b[34m[07/10/2020 06:05:49 INFO 140628876748608] Epoch[10] Train-top_k_accuracy_2=1.000000\u001b[0m\n",
      "\u001b[34m[07/10/2020 06:05:49 INFO 140628876748608] Epoch[10] Time cost=13.655\u001b[0m\n",
      "\u001b[34m[07/10/2020 06:05:50 INFO 140628876748608] Epoch[10] Validation-accuracy=0.453125\u001b[0m\n",
      "\u001b[34m[07/10/2020 06:05:54 INFO 140628876748608] Epoch[11] Batch [20]#011Speed: 314.232 samples/sec#011accuracy=0.994048#011top_k_accuracy_2=1.000000\u001b[0m\n",
      "\u001b[34m[07/10/2020 06:05:58 INFO 140628876748608] Epoch[11] Batch [40]#011Speed: 323.086 samples/sec#011accuracy=0.996951#011top_k_accuracy_2=1.000000\u001b[0m\n",
      "\u001b[34m[07/10/2020 06:06:02 INFO 140628876748608] Epoch[11] Batch [60]#011Speed: 325.838 samples/sec#011accuracy=0.997951#011top_k_accuracy_2=1.000000\u001b[0m\n",
      "\u001b[34m[07/10/2020 06:06:04 INFO 140628876748608] Epoch[11] Train-accuracy=0.919014\u001b[0m\n",
      "\u001b[34m[07/10/2020 06:06:04 INFO 140628876748608] Epoch[11] Train-top_k_accuracy_2=1.000000\u001b[0m\n",
      "\u001b[34m[07/10/2020 06:06:04 INFO 140628876748608] Epoch[11] Time cost=13.691\u001b[0m\n",
      "\u001b[34m[07/10/2020 06:06:05 INFO 140628876748608] Epoch[11] Validation-accuracy=0.544271\u001b[0m\n",
      "\u001b[34m[07/10/2020 06:06:09 INFO 140628876748608] Epoch[12] Batch [20]#011Speed: 309.071 samples/sec#011accuracy=0.994792#011top_k_accuracy_2=1.000000\u001b[0m\n",
      "\u001b[34m[07/10/2020 06:06:13 INFO 140628876748608] Epoch[12] Batch [40]#011Speed: 319.720 samples/sec#011accuracy=0.997332#011top_k_accuracy_2=1.000000\u001b[0m\n",
      "\u001b[34m[07/10/2020 06:06:17 INFO 140628876748608] Epoch[12] Batch [60]#011Speed: 323.698 samples/sec#011accuracy=0.998207#011top_k_accuracy_2=1.000000\u001b[0m\n",
      "\u001b[34m[07/10/2020 06:06:19 INFO 140628876748608] Epoch[12] Train-accuracy=0.913952\u001b[0m\n",
      "\u001b[34m[07/10/2020 06:06:19 INFO 140628876748608] Epoch[12] Train-top_k_accuracy_2=1.000000\u001b[0m\n",
      "\u001b[34m[07/10/2020 06:06:19 INFO 140628876748608] Epoch[12] Time cost=13.774\u001b[0m\n",
      "\u001b[34m[07/10/2020 06:06:20 INFO 140628876748608] Epoch[12] Validation-accuracy=0.453125\u001b[0m\n",
      "\u001b[34m[07/10/2020 06:06:24 INFO 140628876748608] Epoch[13] Batch [20]#011Speed: 312.733 samples/sec#011accuracy=0.994048#011top_k_accuracy_2=1.000000\u001b[0m\n",
      "\u001b[34m[07/10/2020 06:06:28 INFO 140628876748608] Epoch[13] Batch [40]#011Speed: 321.128 samples/sec#011accuracy=0.996951#011top_k_accuracy_2=1.000000\u001b[0m\n",
      "\u001b[34m[07/10/2020 06:06:32 INFO 140628876748608] Epoch[13] Batch [60]#011Speed: 323.997 samples/sec#011accuracy=0.997951#011top_k_accuracy_2=1.000000\u001b[0m\n",
      "\u001b[34m[07/10/2020 06:06:34 INFO 140628876748608] Epoch[13] Train-accuracy=0.911972\u001b[0m\n",
      "\u001b[34m[07/10/2020 06:06:34 INFO 140628876748608] Epoch[13] Train-top_k_accuracy_2=1.000000\u001b[0m\n",
      "\u001b[34m[07/10/2020 06:06:34 INFO 140628876748608] Epoch[13] Time cost=13.763\u001b[0m\n",
      "\u001b[34m[07/10/2020 06:06:35 INFO 140628876748608] Epoch[13] Validation-accuracy=0.544271\u001b[0m\n",
      "\u001b[34m[07/10/2020 06:06:39 INFO 140628876748608] Epoch[14] Batch [20]#011Speed: 314.336 samples/sec#011accuracy=0.994792#011top_k_accuracy_2=1.000000\u001b[0m\n",
      "\u001b[34m[07/10/2020 06:06:43 INFO 140628876748608] Epoch[14] Batch [40]#011Speed: 323.140 samples/sec#011accuracy=0.997332#011top_k_accuracy_2=1.000000\u001b[0m\n",
      "\u001b[34m[07/10/2020 06:06:47 INFO 140628876748608] Epoch[14] Batch [60]#011Speed: 325.807 samples/sec#011accuracy=0.998207#011top_k_accuracy_2=1.000000\u001b[0m\n",
      "\u001b[34m[07/10/2020 06:06:49 INFO 140628876748608] Epoch[14] Train-accuracy=0.917474\u001b[0m\n",
      "\u001b[34m[07/10/2020 06:06:49 INFO 140628876748608] Epoch[14] Train-top_k_accuracy_2=1.000000\u001b[0m\n",
      "\u001b[34m[07/10/2020 06:06:49 INFO 140628876748608] Epoch[14] Time cost=13.693\u001b[0m\n",
      "\u001b[34m[07/10/2020 06:06:50 INFO 140628876748608] Epoch[14] Validation-accuracy=0.453125\u001b[0m\n",
      "\n",
      "2020-07-10 06:06:55 Uploading - Uploading generated training model\n",
      "2020-07-10 06:07:12 Completed - Training job completed\n",
      "Training seconds: 414\n",
      "Billable seconds: 414\n"
     ]
    }
   ],
   "source": [
    "ic.fit(inputs=data_channels, logs=True)"
   ]
  },
  {
   "cell_type": "code",
   "execution_count": null,
   "metadata": {},
   "outputs": [],
   "source": []
  }
 ],
 "metadata": {
  "kernelspec": {
   "display_name": "conda_pytorch_latest_p36",
   "language": "python",
   "name": "conda_pytorch_latest_p36"
  },
  "language_info": {
   "codemirror_mode": {
    "name": "ipython",
    "version": 3
   },
   "file_extension": ".py",
   "mimetype": "text/x-python",
   "name": "python",
   "nbconvert_exporter": "python",
   "pygments_lexer": "ipython3",
   "version": "3.6.10"
  }
 },
 "nbformat": 4,
 "nbformat_minor": 4
}
