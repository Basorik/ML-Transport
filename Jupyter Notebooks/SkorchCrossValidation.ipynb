{
 "cells": [
  {
   "cell_type": "code",
   "execution_count": null,
   "metadata": {},
   "outputs": [],
   "source": [
    "from torchvision.datasets import ImageFolder\n",
    "from torchvision.transforms import ToTensor\n",
    "from torch.utils.data import DataLoader\n",
    "import torch\n",
    "import torchvision\n",
    "import torchvision.transforms as transforms\n",
    "import matplotlib.pyplot as plt\n",
    "import numpy as np\n",
    "import torch.nn as nn\n",
    "import torch.nn.functional as F\n",
    "import torch.optim as optim\n",
    "from skorch import NeuralNetClassifier\n",
    "from sklearn import model_selection\n",
    "from sklearn.metrics import accuracy_score\n",
    "\n",
    "\n",
    "device = torch.device(\"cuda:0\" if torch.cuda.is_available() else \"cpu\")\n",
    "\n",
    "# Assuming that we are on a CUDA machine, this should print a CUDA device:\n",
    "\n",
    "print(device)"
   ]
  },
  {
   "cell_type": "code",
   "execution_count": null,
   "metadata": {},
   "outputs": [],
   "source": [
    "base = 'C:\\\\Users\\\\zshal\\\\Documents\\\\Pytorch\\\\Images\\\\Images\\\\v3'\n",
    "data = ImageFolder(root=base, transform=ToTensor())\n",
    "lengths = ((int)(len(data)*0.8), (int)(len(data)*0.2))\n",
    "trainsplit, testsplit = torch.utils.data.random_split(data, lengths)\n",
    "\n",
    "trainimages = DataLoader(trainsplit, batch_size=4, shuffle=True, num_workers=0)\n",
    "testimages = DataLoader(testsplit, batch_size=4, shuffle=False, num_workers=0)\n",
    "\n",
    "\n",
    "transform = transforms.Compose([transforms.ToTensor(), \n",
    "                                transforms.Normalize((0.5, 0.5, 0.5),\n",
    "                                (0.5, 0.5, 0.5))])\n",
    "\n",
    "\n",
    "\n",
    "# classes = ('plane', 'car', 'bird', 'cat',\n",
    "#          'deer', 'dog', 'frog', 'horse', 'ship', 'truck')\n",
    "\n",
    "classes = ('pothole', 'no pothole')"
   ]
  },
  {
   "cell_type": "code",
   "execution_count": null,
   "metadata": {},
   "outputs": [],
   "source": [
    "class Net(nn.Module):\n",
    "    def __init__(self):\n",
    "        super(Net, self).__init__()\n",
    "        self.conv1 = nn.Conv2d(3, 12, 3)\n",
    "        self.pool = nn.MaxPool2d(2, 2)\n",
    "        #self.conv2 = nn.Conv2d(12, 12, 3)\n",
    "        #self.fc1 = nn.Linear(555984, 120)\n",
    "        self.fc1 = nn.Linear( 12*399*471, 360)\n",
    "        self.fc2 = nn.Linear( 360, 120)\n",
    "        self.fc3 = nn.Linear(120, 84)\n",
    "        self.fc4 = nn.Linear(84, 2)\n",
    "\n",
    "    def forward(self, x):\n",
    "        x = self.pool(F.relu(self.conv1(x)))\n",
    "        #x = self.pool(F.relu(self.conv2(x)))\n",
    "        #x = x.view(-1, 12*198*234)\n",
    "        x = x.view(-1, 12*399*471)\n",
    "        x = F.relu(self.fc1(x))\n",
    "        x = F.relu(self.fc2(x))\n",
    "        x = F.relu(self.fc3(x))\n",
    "        x = self.fc4(x)\n",
    "        return x"
   ]
  },
  {
   "cell_type": "code",
   "execution_count": null,
   "metadata": {},
   "outputs": [],
   "source": [
    "torch.manual_seed(0)\n",
    "net = Net()\n",
    "#net.to(device)\n",
    "model = NeuralNetClassifier(\n",
    "    net,\n",
    "    max_epochs=10,\n",
    "    lr=0.1,\n",
    "    optimizer=torch.optim.Adam,\n",
    "    train_split=None,\n",
    "    #device=device,\n",
    ")\n",
    "\n",
    "params = {\n",
    "    'lr': [0.01, 0.02],\n",
    "    'max_epochs': [10, 20],\n",
    "    #'module__num_units': [10, 20],\n",
    "}\n",
    "\n",
    "model_CV = model_selection.GridSearchCV(model, params, \n",
    "    iid=False, \n",
    "    scoring='neg_log_loss',\n",
    "    cv=5,\n",
    "    verbose=1,\n",
    "    n_jobs=1,\n",
    "    return_train_score=True,\n",
    "    )"
   ]
  },
  {
   "cell_type": "code",
   "execution_count": null,
   "metadata": {},
   "outputs": [],
   "source": [
    "model_CV.fit(trainsplit, y=None)\n",
    "\n",
    "model_CV.save_params(f_params='skorchmodelCV.pkl')\n",
    "\n",
    "\n",
    "y_pred = model.predict(testimages[0])\n",
    "accuracy_score(testimages[0], y_pred)"
   ]
  }
 ],
 "metadata": {
  "kernelspec": {
   "display_name": "Python 3",
   "language": "python",
   "name": "python3"
  },
  "language_info": {
   "codemirror_mode": {
    "name": "ipython",
    "version": 3
   },
   "file_extension": ".py",
   "mimetype": "text/x-python",
   "name": "python",
   "nbconvert_exporter": "python",
   "pygments_lexer": "ipython3",
   "version": "3.7.7"
  }
 },
 "nbformat": 4,
 "nbformat_minor": 4
}
